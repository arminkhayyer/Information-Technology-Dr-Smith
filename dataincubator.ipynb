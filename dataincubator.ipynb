{
 "cells": [
  {
   "cell_type": "code",
   "execution_count": 2,
   "metadata": {},
   "outputs": [
    {
     "name": "stderr",
     "output_type": "stream",
     "text": [
      "/Users/arminkhayyer/tensorflow/lib/python3.6/site-packages/IPython/core/interactiveshell.py:2901: DtypeWarning: Columns (12) have mixed types. Specify dtype option on import or set low_memory=False.\n",
      "  if self.run_code(code, result):\n",
      "/Users/arminkhayyer/tensorflow/lib/python3.6/site-packages/IPython/core/interactiveshell.py:2901: DtypeWarning: Columns (0) have mixed types. Specify dtype option on import or set low_memory=False.\n",
      "  if self.run_code(code, result):\n",
      "b'Skipping line 5: expected 1 fields, saw 2\\n'\n"
     ]
    }
   ],
   "source": [
    "import pandas as pd\n",
    "import numpy as np\n",
    "import xlrd\n",
    "from pandas import DataFrame\n",
    "import datetime\n",
    "import matplotlib.pyplot as plt\n",
    "from matplotlib import style\n",
    "import os\n",
    "\n",
    "\n",
    "\n",
    "files = os.listdir(\"house-office-expenditures-with-readme\")\n",
    "#locations = [\"house-office-expenditures-with-readme/{}\".format(i) for i in files]\n",
    "df = pd.concat([pd.read_csv(i, encoding = \"latin1\",  error_bad_lines=False) for i in files])\n",
    "df= df[[\"BIOGUIDE_ID\", \"OFFICE\", \"CATEGORY\", \"PAYEE\", \"START DATE\", \"END DATE\", \"AMOUNT\", \"PURPOSE\",\"YEAR\"]]\n",
    "df.to_csv(\"csvfile.csv\", sep=\",\")\n",
    "\n",
    "\n",
    "\n",
    "#file_location = '2015Q2-house-disburse-detail-updated.csv'\n",
    "#df = pd.read_csv(file_location)\n",
    "\n",
    "#df.tail()"
   ]
  },
  {
   "cell_type": "code",
   "execution_count": 3,
   "metadata": {
    "scrolled": true
   },
   "outputs": [],
   "source": [
    "def convert_to_float(row):\n",
    "    string= str(row[\"AMOUNT\"]).replace(\",\", \"\")\n",
    "    return float(string)\n",
    "    \n",
    "\n",
    "df[\"AMOUNT\"] = df.apply(lambda row: convert_to_float(row), axis =1)\n",
    "\n",
    "\n"
   ]
  },
  {
   "cell_type": "code",
   "execution_count": 4,
   "metadata": {},
   "outputs": [
    {
     "data": {
      "text/plain": [
       "13660703793.310001"
      ]
     },
     "execution_count": 4,
     "metadata": {},
     "output_type": "execute_result"
    }
   ],
   "source": [
    "df.AMOUNT.sum()"
   ]
  },
  {
   "cell_type": "code",
   "execution_count": 5,
   "metadata": {},
   "outputs": [
    {
     "name": "stdout",
     "output_type": "stream",
     "text": [
      "34\n",
      "3146.7727500697324\n"
     ]
    }
   ],
   "source": [
    "df = df.loc[df[\"START DATE\"] != '   ']\n",
    "df['START DATE'].replace('', np.nan, inplace=True)\n",
    "print(df['START DATE'].isnull().sum())\n",
    "#df = df.loc[df[\"START DATE\"] != \"\", :]\n",
    "#df = df.loc[df[\"END DATE\"] != \"\", :]\n",
    "df.dropna(subset=['START DATE'], inplace=True)\n",
    "\n",
    "\n",
    "\n",
    "df[\"START DATE\"] = pd.to_datetime(df[\"START DATE\"])\n",
    "start_date = pd.to_datetime(\"1/1/2010\")\n",
    "end_date =  pd.to_datetime(\"12/31/2016\")\n",
    "mean = df.loc[(df[\"START DATE\"] >= start_date) & (df[\"START DATE\"] <= end_date)&(df[\"AMOUNT\"]>0), \"AMOUNT\"].mean()\n",
    "print(mean)"
   ]
  },
  {
   "cell_type": "code",
   "execution_count": 6,
   "metadata": {},
   "outputs": [
    {
     "data": {
      "text/plain": [
       "50970.33"
      ]
     },
     "execution_count": 6,
     "metadata": {},
     "output_type": "execute_result"
    }
   ],
   "source": [
    "# the data set is for 2015 second quarter, so there is no data point for 2016 in this dataset \n",
    "new_df = df.loc[(df[\"CATEGORY\"] ==\"PERSONNEL COMPENSATION\")&(df[\"START DATE\"].dt.year ==2016), :]\n",
    "new_df.groupby([\"PAYEE\"]).mean()[\"AMOUNT\"].max()"
   ]
  },
  {
   "cell_type": "code",
   "execution_count": 7,
   "metadata": {},
   "outputs": [
    {
     "name": "stdout",
     "output_type": "stream",
     "text": [
      "61.443788552238495\n"
     ]
    }
   ],
   "source": [
    "#coverage period\n",
    "\n",
    "\n",
    "df[\"END DATE\"] = pd.to_datetime(df[\"END DATE\"], errors=\"coerce\")\n",
    "df.dropna(subset=['END DATE'], inplace=True)\n",
    "df[\"coverage period\"] = (df[\"END DATE\"] - df[\"START DATE\"]).dt.days\n",
    "\n",
    "print(np.std(df.loc[df[\"AMOUNT\"] >0 , \"coverage period\"]))\n",
    "\n"
   ]
  },
  {
   "cell_type": "code",
   "execution_count": 19,
   "metadata": {},
   "outputs": [
    {
     "name": "stdout",
     "output_type": "stream",
     "text": [
      "0.06917102803962792\n"
     ]
    }
   ],
   "source": [
    "\n",
    "groups = df.loc[df[\"START DATE\"].dt.year==2016, :].groupby([\"OFFICE\"])[\"AMOUNT\"].max()\n",
    "purpose = df.loc[df.AMOUNT ==groups.max(), \"PURPOSE\"]\n",
    "\n",
    "\n",
    "total = df.loc[df[\"START DATE\"].dt.year==2016, \"AMOUNT\"].sum()\n",
    "\n",
    "purpose_total = df.loc[(df[\"PURPOSE\"] == \"FERS\")&(df[\"START DATE\"].dt.year ==2016), \"AMOUNT\"].sum()\n",
    "\n",
    "fraction = purpose_total/total\n",
    "\n",
    "print(fraction)\n",
    "       \n"
   ]
  },
  {
   "cell_type": "code",
   "execution_count": null,
   "metadata": {},
   "outputs": [],
   "source": []
  }
 ],
 "metadata": {
  "kernelspec": {
   "display_name": "Python 3",
   "language": "python",
   "name": "python3"
  }
 },
 "nbformat": 4,
 "nbformat_minor": 2
}

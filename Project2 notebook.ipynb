{
 "cells": [
  {
   "cell_type": "code",
   "execution_count": 1,
   "metadata": {},
   "outputs": [
    {
     "name": "stderr",
     "output_type": "stream",
     "text": [
      "/Users/arminkhayyer/tensorflow/lib/python3.6/site-packages/IPython/core/interactiveshell.py:2785: DtypeWarning: Columns (7) have mixed types. Specify dtype option on import or set low_memory=False.\n",
      "  interactivity=interactivity, compiler=compiler, result=result)\n"
     ]
    },
    {
     "data": {
      "text/html": [
       "<div>\n",
       "<style scoped>\n",
       "    .dataframe tbody tr th:only-of-type {\n",
       "        vertical-align: middle;\n",
       "    }\n",
       "\n",
       "    .dataframe tbody tr th {\n",
       "        vertical-align: top;\n",
       "    }\n",
       "\n",
       "    .dataframe thead th {\n",
       "        text-align: right;\n",
       "    }\n",
       "</style>\n",
       "<table border=\"1\" class=\"dataframe\">\n",
       "  <thead>\n",
       "    <tr style=\"text-align: right;\">\n",
       "      <th></th>\n",
       "      <th>BIOGUIDE_ID</th>\n",
       "      <th>QUARTER</th>\n",
       "      <th>YEAR</th>\n",
       "      <th>OFFICE</th>\n",
       "      <th>CATEGORY</th>\n",
       "      <th>PURPOSE</th>\n",
       "      <th>PAYEE</th>\n",
       "      <th>START DATE</th>\n",
       "      <th>END DATE</th>\n",
       "      <th>coverage_period</th>\n",
       "      <th>AMOUNT</th>\n",
       "    </tr>\n",
       "  </thead>\n",
       "  <tbody>\n",
       "    <tr>\n",
       "      <th>0</th>\n",
       "      <td>NaN</td>\n",
       "      <td>2017Q3</td>\n",
       "      <td>2017</td>\n",
       "      <td>OFFICE OF THE SPEAKER</td>\n",
       "      <td>PERSONNEL COMPENSATION</td>\n",
       "      <td>CONSERVATIVE OUTREACH DIRECTOR</td>\n",
       "      <td>ALTHOUSE JOSHUA S</td>\n",
       "      <td>2017-07-01</td>\n",
       "      <td>2017-09-30</td>\n",
       "      <td>91</td>\n",
       "      <td>20000.01</td>\n",
       "    </tr>\n",
       "    <tr>\n",
       "      <th>1</th>\n",
       "      <td>NaN</td>\n",
       "      <td>2017Q3</td>\n",
       "      <td>2017</td>\n",
       "      <td>OFFICE OF THE SPEAKER</td>\n",
       "      <td>PERSONNEL COMPENSATION</td>\n",
       "      <td>PRESS SECRETARY</td>\n",
       "      <td>ANDRES DOUGLAS R</td>\n",
       "      <td>2017-07-01</td>\n",
       "      <td>2017-09-30</td>\n",
       "      <td>91</td>\n",
       "      <td>27500.01</td>\n",
       "    </tr>\n",
       "    <tr>\n",
       "      <th>2</th>\n",
       "      <td>NaN</td>\n",
       "      <td>2017Q3</td>\n",
       "      <td>2017</td>\n",
       "      <td>OFFICE OF THE SPEAKER</td>\n",
       "      <td>PERSONNEL COMPENSATION</td>\n",
       "      <td>MEMBER SERVICES DIRECTOR</td>\n",
       "      <td>ANDREWS THOMAS S</td>\n",
       "      <td>2017-07-01</td>\n",
       "      <td>2017-09-30</td>\n",
       "      <td>91</td>\n",
       "      <td>32499.99</td>\n",
       "    </tr>\n",
       "    <tr>\n",
       "      <th>3</th>\n",
       "      <td>NaN</td>\n",
       "      <td>2017Q3</td>\n",
       "      <td>2017</td>\n",
       "      <td>OFFICE OF THE SPEAKER</td>\n",
       "      <td>PERSONNEL COMPENSATION</td>\n",
       "      <td>ASST TO THE SPEAKER FOR POLICY</td>\n",
       "      <td>ANTELL GEOFFREY</td>\n",
       "      <td>2017-07-01</td>\n",
       "      <td>2017-09-30</td>\n",
       "      <td>91</td>\n",
       "      <td>41250.00</td>\n",
       "    </tr>\n",
       "    <tr>\n",
       "      <th>4</th>\n",
       "      <td>NaN</td>\n",
       "      <td>2017Q3</td>\n",
       "      <td>2017</td>\n",
       "      <td>OFFICE OF THE SPEAKER</td>\n",
       "      <td>PERSONNEL COMPENSATION</td>\n",
       "      <td>SYSTEM ADMINISTRATOR</td>\n",
       "      <td>BENJAMIN WILLIAM C.</td>\n",
       "      <td>2017-07-01</td>\n",
       "      <td>2017-09-30</td>\n",
       "      <td>91</td>\n",
       "      <td>13250.01</td>\n",
       "    </tr>\n",
       "  </tbody>\n",
       "</table>\n",
       "</div>"
      ],
      "text/plain": [
       "  BIOGUIDE_ID QUARTER  YEAR                 OFFICE                CATEGORY  \\\n",
       "0         NaN  2017Q3  2017  OFFICE OF THE SPEAKER  PERSONNEL COMPENSATION   \n",
       "1         NaN  2017Q3  2017  OFFICE OF THE SPEAKER  PERSONNEL COMPENSATION   \n",
       "2         NaN  2017Q3  2017  OFFICE OF THE SPEAKER  PERSONNEL COMPENSATION   \n",
       "3         NaN  2017Q3  2017  OFFICE OF THE SPEAKER  PERSONNEL COMPENSATION   \n",
       "4         NaN  2017Q3  2017  OFFICE OF THE SPEAKER  PERSONNEL COMPENSATION   \n",
       "\n",
       "                          PURPOSE                PAYEE START DATE   END DATE  \\\n",
       "0  CONSERVATIVE OUTREACH DIRECTOR    ALTHOUSE JOSHUA S 2017-07-01 2017-09-30   \n",
       "1                 PRESS SECRETARY     ANDRES DOUGLAS R 2017-07-01 2017-09-30   \n",
       "2        MEMBER SERVICES DIRECTOR     ANDREWS THOMAS S 2017-07-01 2017-09-30   \n",
       "3  ASST TO THE SPEAKER FOR POLICY      ANTELL GEOFFREY 2017-07-01 2017-09-30   \n",
       "4            SYSTEM ADMINISTRATOR  BENJAMIN WILLIAM C. 2017-07-01 2017-09-30   \n",
       "\n",
       "   coverage_period    AMOUNT  \n",
       "0               91  20000.01  \n",
       "1               91  27500.01  \n",
       "2               91  32499.99  \n",
       "3               91  41250.00  \n",
       "4               91  13250.01  "
      ]
     },
     "execution_count": 1,
     "metadata": {},
     "output_type": "execute_result"
    }
   ],
   "source": [
    "import numpy as np\n",
    "import pandas as pd\n",
    "\n",
    "df = pd.read_csv(\"../cleaned-data.csv\")\n",
    "df = df.drop(columns=['Unnamed: 0'], axis=1)\n",
    "df[\"START DATE\"] = pd.to_datetime(df[\"START DATE\"])\n",
    "df[\"END DATE\"] = pd.to_datetime(df[\"END DATE\"])\n",
    "df = df[[\"BIOGUIDE_ID\", \"QUARTER\", \"YEAR\", \"OFFICE\", \"CATEGORY\", \"PURPOSE\", \"PAYEE\", \"START DATE\", \"END DATE\", \"coverage_period\", \"AMOUNT\"]]\n",
    "\n",
    "df.head()"
   ]
  },
  {
   "cell_type": "markdown",
   "metadata": {},
   "source": [
    "question 1. What is the most expensive payee?\n",
    "we have several payees,it's not good to just group buy that. what else we can do we can find the purpose of the largest amount payed. "
   ]
  },
  {
   "cell_type": "code",
   "execution_count": 2,
   "metadata": {},
   "outputs": [
    {
     "data": {
      "text/html": [
       "<div>\n",
       "<style scoped>\n",
       "    .dataframe tbody tr th:only-of-type {\n",
       "        vertical-align: middle;\n",
       "    }\n",
       "\n",
       "    .dataframe tbody tr th {\n",
       "        vertical-align: top;\n",
       "    }\n",
       "\n",
       "    .dataframe thead th {\n",
       "        text-align: right;\n",
       "    }\n",
       "</style>\n",
       "<table border=\"1\" class=\"dataframe\">\n",
       "  <thead>\n",
       "    <tr style=\"text-align: right;\">\n",
       "      <th></th>\n",
       "      <th>BIOGUIDE_ID</th>\n",
       "      <th>QUARTER</th>\n",
       "      <th>YEAR</th>\n",
       "      <th>OFFICE</th>\n",
       "      <th>CATEGORY</th>\n",
       "      <th>PURPOSE</th>\n",
       "      <th>PAYEE</th>\n",
       "      <th>START DATE</th>\n",
       "      <th>END DATE</th>\n",
       "      <th>coverage_period</th>\n",
       "      <th>AMOUNT</th>\n",
       "    </tr>\n",
       "  </thead>\n",
       "  <tbody>\n",
       "    <tr>\n",
       "      <th>184760</th>\n",
       "      <td>NaN</td>\n",
       "      <td>2017Q4</td>\n",
       "      <td>2017</td>\n",
       "      <td>GOVERNMENT CONTRIBUTIONS</td>\n",
       "      <td>PERSONNEL BENEFITS</td>\n",
       "      <td>FERS</td>\n",
       "      <td></td>\n",
       "      <td>2017-12-01</td>\n",
       "      <td>2017-12-31</td>\n",
       "      <td>30</td>\n",
       "      <td>6789603.47</td>\n",
       "    </tr>\n",
       "  </tbody>\n",
       "</table>\n",
       "</div>"
      ],
      "text/plain": [
       "       BIOGUIDE_ID QUARTER  YEAR                    OFFICE  \\\n",
       "184760         NaN  2017Q4  2017  GOVERNMENT CONTRIBUTIONS   \n",
       "\n",
       "                  CATEGORY PURPOSE PAYEE START DATE   END DATE  \\\n",
       "184760  PERSONNEL BENEFITS    FERS       2017-12-01 2017-12-31   \n",
       "\n",
       "        coverage_period      AMOUNT  \n",
       "184760               30  6789603.47  "
      ]
     },
     "execution_count": 2,
     "metadata": {},
     "output_type": "execute_result"
    }
   ],
   "source": [
    "max_amount =df.loc[df.AMOUNT == max(df.AMOUNT), :] \n",
    "max_amount"
   ]
  },
  {
   "cell_type": "code",
   "execution_count": 3,
   "metadata": {
    "scrolled": true
   },
   "outputs": [
    {
     "name": "stdout",
     "output_type": "stream",
     "text": [
      "[['Rep' 'Mike' 'Rogers' 'R' 'M']]\n"
     ]
    },
    {
     "name": "stderr",
     "output_type": "stream",
     "text": [
      "No handles with labels found to put in legend.\n",
      "No handles with labels found to put in legend.\n"
     ]
    },
    {
     "name": "stdout",
     "output_type": "stream",
     "text": [
      "[['Rep' 'Mike' 'Kelly' 'R' 'M']]\n",
      "[['Com' 'Pedro' 'Pierluisi' 'D' 'M']]\n"
     ]
    },
    {
     "name": "stderr",
     "output_type": "stream",
     "text": [
      "No handles with labels found to put in legend.\n"
     ]
    }
   ],
   "source": [
    "biodf = df.dropna(subset=[\"BIOGUIDE_ID\"])\n",
    "largest_bios = biodf.groupby([\"BIOGUIDE_ID\"])[\"AMOUNT\"].sum().nlargest(3).index\n",
    "\n",
    "import matplotlib.pyplot as plt \n",
    "legislators = pd.read_csv(\"../legislators_updated.csv\")\n",
    "for i in largest_bios:\n",
    "    print(legislators.loc[legislators.bioguide_id == i, [\"title\", \"firstname\", \"lastname\", \"party\", \"gender\"]].values)\n",
    "    a = biodf.loc[biodf.BIOGUIDE_ID == i, [\"PURPOSE\", \"CATEGORY\", \"AMOUNT\", \"YEAR\"]].groupby([\"CATEGORY\"])[\"AMOUNT\"].aggregate([\"sum\"])\n",
    "    a[\"total Amount\"] = a[\"sum\"]\n",
    "    a = a[[\"total Amount\"]]\n",
    "    a.plot.pie(subplots=True, labels= None, title=i)\n",
    "    plt.legend(loc=\"upper left\", bbox_to_anchor=(1,1), labels= a.index)                                                                                                                       "
   ]
  },
  {
   "cell_type": "markdown",
   "metadata": {},
   "source": [
    "question 2. Which year was the most expensive year for the House?"
   ]
  },
  {
   "cell_type": "code",
   "execution_count": 64,
   "metadata": {},
   "outputs": [
    {
     "name": "stdout",
     "output_type": "stream",
     "text": [
      "[[5.36889316e+05]\n",
      " [2.40841369e+08]]\n"
     ]
    },
    {
     "data": {
      "image/png": "[encoded data removed]",
      "text/plain": [
       "<Figure size 1080x720 with 1 Axes>"
      ]
     },
     "metadata": {},
     "output_type": "display_data"
    }
   ],
   "source": [
    "\n",
    "#print(df.groupby([\"YEAR\"]).aggregate([\"mean\", \"count\", \"sum\"]))\n",
    "quarterly_group = df.groupby([\"QUARTER\"])[\"AMOUNT\"].aggregate([ \"sum\"])\n",
    "x = np.arange(32)\n",
    "z = np.polyfit(x,quarterly_group.values,1)\n",
    "print(z)\n",
    "\n",
    "\n",
    "#fig = quarterly_group.plot( marker=\"o\", title= \"Quarterly Summation\")\n",
    "#fig.xaxis(quarterly_group.index)\n",
    "fig, ax = plt.subplots(figsize=(15,10))\n",
    "ax.plot(quarterly_group.index,quarterly_group.values, marker=\"o\", markerfacecolor=\"blue\", color=\"r\")\n",
    "ax.set_xticklabels(quarterly_group.index ,fontsize=10, rotation=45)\n",
    "#ax.xaxis.set_ticks(np.arange(start, end, 0.712123))\n",
    "#ax.xaxis.set_major_formatter(ticker.FormatStrFormatter('%0.1f'))\n",
    "plt.title(\"Quarterly Summation\")\n",
    "plt.show()\n",
    "\n",
    "\n",
    "\n",
    "\n",
    "\n"
   ]
  },
  {
   "cell_type": "code",
   "execution_count": null,
   "metadata": {},
   "outputs": [],
   "source": [
    "import matplotlib.pyplot as plt \n",
    "\n",
    "for i in range(2010, 2018):\n",
    "    a = df.loc[df.YEAR == i, :].groupby([\"QUARTER\"])[\"AMOUNT\"].sum()\n",
    "    y = a.values\n",
    "    xlablels= [\"q1\", \"q2\", \"q3\", \"q4\"]\n",
    "    plt.plot(xlablels, y, label= i)\n",
    "    plt.legend(loc=\"upper left\", bbox_to_anchor=(1,1))\n",
    "\n",
    "plt.show()"
   ]
  },
  {
   "cell_type": "code",
   "execution_count": null,
   "metadata": {},
   "outputs": [],
   "source": [
    "# pie chart yearly\n",
    "#df.groupby([\"YEAR\"])[\"AMOUNT\"].sum().plot.pie(subplots=True)\n",
    "\n",
    "#plot.pie(subplots=True)\n"
   ]
  },
  {
   "cell_type": "markdown",
   "metadata": {},
   "source": [
    "question 3. Graphic How expenses changed during time?"
   ]
  },
  {
   "cell_type": "code",
   "execution_count": null,
   "metadata": {},
   "outputs": [],
   "source": [
    "#df.boxplot(column= [\"AMOUNT\"], by= [\"YEAR\"], showbox=True)"
   ]
  },
  {
   "cell_type": "markdown",
   "metadata": {},
   "source": [
    "question 4. Which office was the most expensive in each year?"
   ]
  },
  {
   "cell_type": "code",
   "execution_count": null,
   "metadata": {},
   "outputs": [],
   "source": [
    "max_OFFICE = df.groupby([\"YEAR\", \"OFFICE\"])[\"AMOUNT\"].sum()\n",
    "for i in range(2010, 2018):\n",
    "    print(\"The most expensive office in year {} is \".format(i), max_OFFICE[i].idxmax(), \"with total expenditure of\", max_OFFICE[i].max())"
   ]
  },
  {
   "cell_type": "markdown",
   "metadata": {},
   "source": [
    "question 6. What is the most commun purpose to spend money in House?"
   ]
  },
  {
   "cell_type": "code",
   "execution_count": null,
   "metadata": {},
   "outputs": [],
   "source": [
    "#yearly Federal Employees Retirement System as FERS\n",
    "max_Purpose = df.groupby([\"YEAR\", \"PURPOSE\"])[\"AMOUNT\"].sum()\n",
    "for i in range(2010, 2018):\n",
    "    print(\"The most expensive PURPOSE in year {} is \".format(i), max_Purpose[i].idxmax(), \"with total expenditure of\", max_Purpose[i].max())"
   ]
  },
  {
   "cell_type": "code",
   "execution_count": null,
   "metadata": {},
   "outputs": [],
   "source": [
    "# overall\n",
    "#df.groupby([\"PURPOSE\"])[\"AMOUNT\"].sum().idxmax()\n"
   ]
  },
  {
   "cell_type": "markdown",
   "metadata": {},
   "source": [
    "question 7. How much was the total expenditure for each purpose? we have so many purposes, it's not a good idea to check for all of those. instead we can check for the top 5 or 10 "
   ]
  },
  {
   "cell_type": "code",
   "execution_count": null,
   "metadata": {},
   "outputs": [],
   "source": [
    "print(df.groupby([\"PURPOSE\"])[\"AMOUNT\"].sum().nlargest(5))"
   ]
  },
  {
   "cell_type": "markdown",
   "metadata": {},
   "source": [
    "question 8. Graphic of total expenses in each year."
   ]
  },
  {
   "cell_type": "code",
   "execution_count": null,
   "metadata": {},
   "outputs": [],
   "source": [
    "# histogram of coverage periods \n",
    "dfnew = df.loc[(df[\"coverage_period\"] >=0) & (df[\"coverage_period\"] <=100), :]\n",
    "dfnew.hist(column= [\"coverage_period\"], bins=10)"
   ]
  },
  {
   "cell_type": "code",
   "execution_count": null,
   "metadata": {},
   "outputs": [],
   "source": [
    "bins = []\n",
    "performance = np.arange(0, 110, 10)\n",
    "performance = [str(i) for i in performance]\n",
    "for i in range(0, 110, 10):\n",
    "    a = df.loc[(df[\"coverage_period\"] >=i) & (df[\"coverage_period\"] <= i +10), :]\n",
    "    bins.append(sum(a.AMOUNT))\n",
    "\n",
    "plt.bar(performance, bins, align='center')"
   ]
  },
  {
   "cell_type": "code",
   "execution_count": null,
   "metadata": {},
   "outputs": [],
   "source": [
    "#18- check to see what purposes caused the expenditure for coverage perioed between the range oof 80-90\n",
    "\n",
    "covdf = df.loc[(df.coverage_period >= 80)&(df.coverage_period <= 1000), :]\n",
    "covdf.groupby([\"CATEGORY\"])[\"AMOUNT\"].sum().nlargest(5)"
   ]
  },
  {
   "cell_type": "markdown",
   "metadata": {},
   "source": [
    "question 9. Graphic of total expensen in each year considering quarters."
   ]
  },
  {
   "cell_type": "code",
   "execution_count": null,
   "metadata": {},
   "outputs": [],
   "source": [
    "quarterly = df.groupby([\"QUARTER\"])[\"AMOUNT\"].aggregate([\"sum\"])\n",
    "\n",
    "dfquarterly = pd.DataFrame(quarterly)\n",
    "#dfquarterly.index\n",
    "quarterly.boxplot()"
   ]
  },
  {
   "cell_type": "markdown",
   "metadata": {},
   "source": [
    "question 10. Graphic of comparing the expense of each office during year... (can be lines for each office)\n",
    "11. Changes in aggregate House expenditures (arranged by 2009 expenditure size)\n",
    "12. Changes in staffing force, by position (for 20 most expensive positions by total expenditures, arranged from biggest decline to biggest gain)\n",
    "13. "
   ]
  },
  {
   "cell_type": "code",
   "execution_count": null,
   "metadata": {},
   "outputs": [],
   "source": [
    " #changes for personal compensation in percentile- the first 5 largest and smallest.\n",
    "    \n",
    "from congress import Congress\n",
    "personal_comp_df = df.loc[df.CATEGORY == \"PERSONNEL COMPENSATION\", :]\n",
    "#print(personal_comp_df.loc[df.PAYEE == \"AVANT, ISSAC L\", :])\n",
    "MOST_EXP_EMP = list(personal_comp_df.groupby([ \"BIOGUIDE_ID\"])[\"AMOUNT\"].sum().nlargest(5).index)\n",
    "\n",
    "api_key = 'Z7cnuQ3cufA08VfbWOoqURVpeSUuyT8QQazVwAGY'\n",
    "congress = Congress(api_key)\n",
    "congressmans = [congress.members.get(i) for i in MOST_EXP_EMP]\n",
    "\n",
    "required_data = [\"title\", \"state\", \"party\", \"committees\" ]    \n",
    "final = []\n",
    "for i in congressmans:\n",
    "    raw_dict = i[\"roles\"][0]\n",
    "    congressman_info = dict((key,value) for key, value in raw_dict.items() if key in required_data)\n",
    "    final.append(congressman_info)\n",
    "    \n",
    "for i in final:\n",
    "    congressman_comittee = i[\"committees\"][0][\"name\"]\n",
    "    i.pop(\"committees\")\n",
    "    i.update({\"committee\":congressman_comittee})\n",
    "\n",
    "for i in final: \n",
    "    index = final.index(i)\n",
    "    i.update({\"Name\":(congressmans[index][\"first_name\"] + \" \" +  congressmans[index][\"last_name\"] )})\n",
    "\n",
    "final_df = []\n",
    "for i in MOST_EXP_EMP:\n",
    "    a = personal_comp_df.loc[df.BIOGUIDE_ID == i, :][\"AMOUNT\"].sum()\n",
    "    unique_number_of_payee = len(personal_comp_df.loc[df.BIOGUIDE_ID == i, [\"PAYEE\"]][\"PAYEE\"].unique())\n",
    "    total_expenditure = df.loc[df.BIOGUIDE_ID == i, \"AMOUNT\"].sum()\n",
    "    percentage = str(np.round(a/total_expenditure * 100, decimals=2)) + \"%\"\n",
    "    index = MOST_EXP_EMP.index(i)\n",
    "    final[index].update({\"total\":a, \"number of staff\": unique_number_of_payee, \"Bio Guide ID\": i, \"Percentage\":percentage})\n",
    "    final_df.append(final[index])\n",
    "\n",
    "final_df = pd.DataFrame.from_dict(final_df)\n",
    "final_df.head()"
   ]
  },
  {
   "cell_type": "code",
   "execution_count": null,
   "metadata": {},
   "outputs": [],
   "source": [
    "df.groupby([\"OFFICE\"])[\"AMOUNT\"].sum().nlargest(5)"
   ]
  },
  {
   "cell_type": "markdown",
   "metadata": {},
   "source": [
    "14- expenditure for each party in each years. \n",
    "15- group by states \n",
    "16 - group by party, year, purpose \n",
    "17 - bar charts for parties in each year\n",
    "18- check to see what purposes caused the expenditure for coverage perioed between the range oof 80-90\n",
    "19- changes for personal compensation in percentile- the first 5 largest and smallest. \n",
    "20 - bar chart, yearly, with categories showed by different colors. \n",
    "21- correaltion between party, state, amount, gender, travel"
   ]
  },
  {
   "cell_type": "code",
   "execution_count": null,
   "metadata": {},
   "outputs": [],
   "source": [
    "#14- expenditure for each party in each years.\n",
    "   \n",
    "from matplotlib.ticker import MaxNLocator\n",
    "from collections import namedtuple\n",
    "\n",
    "unique_biodf = df.dropna(subset=[\"BIOGUIDE_ID\"])\n",
    "unique_biodf = unique_biodf.groupby([ \"YEAR\",\"BIOGUIDE_ID\"])[\"AMOUNT\"].aggregate(['sum'])\n",
    "#unique_biodf[\"BIOGUIDE_ID\"] = unique_biodf.index\n",
    "unique_biodf = unique_biodf.reset_index()\n",
    "legis = pd.read_csv(\"../legislators_updated.csv\")\n",
    "\n",
    "def find_party(row):\n",
    "    bio = row.BIOGUIDE_ID\n",
    "    party =  legis.loc[legis.bioguide_id == bio, \"party\"].values\n",
    "    return str(party)[2:3]\n",
    "    \n",
    "unique_biodf[\"party\"] = unique_biodf.apply(lambda row: find_party(row), axis= 1)\n",
    "unique_biodf = unique_biodf.loc[unique_biodf.party != \"\", :]\n",
    "stacked_bar = unique_biodf.groupby([\"YEAR\", \"party\"])[\"sum\"].aggregate([\"sum\"]).reset_index()\n",
    "years = stacked_bar.YEAR.unique()\n",
    "height_D = list(stacked_bar.loc[stacked_bar.party == \"D\", \"sum\"])\n",
    "height_R = list(stacked_bar.loc[stacked_bar.party == \"R\", \"sum\"])\n",
    "\n",
    "fig, ax = plt.subplots()\n",
    "#index = np.arange(n_groups)\n",
    "bar_width = 0.35\n",
    "opacity = 0.4\n",
    "error_config = {'ecolor': '0.3'}\n",
    "\n",
    "rects1 = ax.bar(years, height_D , bar_width,\n",
    "                alpha=opacity, color='b',\n",
    "                error_kw=error_config,\n",
    "                label='D')\n",
    "\n",
    "rects2 = ax.bar(years + bar_width, height_R, bar_width,\n",
    "                alpha=opacity, color='r',\n",
    "                error_kw=error_config,\n",
    "                label='R')\n",
    "\n",
    "ax.set_xlabel('years')\n",
    "ax.set_ylabel('total expenditure')\n",
    "ax.set_title('total expenditure by each party')\n",
    "ax.set_xticks(years + bar_width / 2)\n",
    "ax.set_xticklabels(years)\n",
    "ax.legend()\n",
    "\n",
    "fig.tight_layout()\n",
    "plt.show()  "
   ]
  },
  {
   "cell_type": "code",
   "execution_count": null,
   "metadata": {},
   "outputs": [],
   "source": [
    "#stacked bar charts yearly for the 5 largest categories. \n",
    "\n",
    "#stacked_category = df.groupby([\"YEAR\", \"CATEGORY\"])[\"AMOUNT\"].sum().reset_index()\n",
    "#print(stacked_category)\n",
    "\n",
    "yearly_df= df.groupby([\"YEAR\"]).sum().reset_index()\n",
    "\n",
    "\n",
    "all_categories = df.CATEGORY.unique()\n",
    "for cat in all_categories:\n",
    "    for year in range (2010, 2018):\n",
    "        a =  df.loc[(df.YEAR == year)&(df.CATEGORY == cat), \"AMOUNT\"].sum()\n",
    "        yearly_df.loc[yearly_df.YEAR == year, cat] = a\n",
    "        \n",
    "        \n",
    "yearly_df = yearly_df.drop(columns=[\"coverage_period\", \"AMOUNT\"])     \n",
    "yearly_df.plot(x=\"YEAR\", kind='bar', stacked=True, title='Breakdown of Costs', mark_right=True, figsize = (15,10) )    \n",
    "plt.legend(loc=\"upper left\", bbox_to_anchor=(1,1))\n",
    "\n"
   ]
  },
  {
   "cell_type": "code",
   "execution_count": null,
   "metadata": {},
   "outputs": [],
   "source": [
    " #15- group by states, show it in js\n",
    "    \n",
    "unique_biodf_states = df.dropna(subset=[\"BIOGUIDE_ID\"])\n",
    "unique_biodf_states = unique_biodf_states.groupby([ \"YEAR\",\"BIOGUIDE_ID\"])[\"AMOUNT\"].aggregate(['sum'])\n",
    "unique_biodf_states = unique_biodf_states.reset_index()\n",
    "legiss = pd.read_csv(\"../legislators_updated.csv\")\n",
    "\n",
    "def find_state(row):\n",
    "    bio = row.BIOGUIDE_ID\n",
    "    state =  legiss.loc[legiss.bioguide_id == bio, \"state\"].values\n",
    "    return str(state)[2:4]\n",
    "\n",
    "unique_biodf_states[\"state\"] = unique_biodf_states.apply(lambda row: find_state(row), axis= 1)\n",
    "\n",
    "unique_biodf_states = unique_biodf_states.loc[unique_biodf_states.state != \"\", :]\n",
    "unique_biodf_states.groupby([\"YEAR\", \"state\"])[\"sum\"].sum().plot(kind =\"bar\")\n",
    "\n"
   ]
  },
  {
   "cell_type": "code",
   "execution_count": null,
   "metadata": {},
   "outputs": [],
   "source": [
    "import HTML\n",
    "<input class=\"btn\"></input>"
   ]
  }
 ],
 "metadata": {
  "kernelspec": {
   "display_name": "Python 3",
   "language": "python",
   "name": "python3"
  },
  "language_info": {
   "codemirror_mode": {
    "name": "ipython",
    "version": 3
   },
   "file_extension": ".py",
   "mimetype": "text/x-python",
   "name": "python",
   "nbconvert_exporter": "python",
   "pygments_lexer": "ipython3",
   "version": "3.6.5"
  }
 },
 "nbformat": 4,
 "nbformat_minor": 2
}

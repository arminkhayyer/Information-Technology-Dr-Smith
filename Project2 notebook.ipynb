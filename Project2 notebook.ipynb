{
 "cells": [
  {
   "cell_type": "code",
   "execution_count": 54,
   "metadata": {},
   "outputs": [
    {
     "name": "stderr",
     "output_type": "stream",
     "text": [
      "/Users/arminkhayyer/tensorflow/lib/python3.6/site-packages/IPython/core/interactiveshell.py:2901: DtypeWarning: Columns (0) have mixed types. Specify dtype option on import or set low_memory=False.\n",
      "  if self.run_code(code, result):\n"
     ]
    },
    {
     "data": {
      "text/html": [
       "<div>\n",
       "<style scoped>\n",
       "    .dataframe tbody tr th:only-of-type {\n",
       "        vertical-align: middle;\n",
       "    }\n",
       "\n",
       "    .dataframe tbody tr th {\n",
       "        vertical-align: top;\n",
       "    }\n",
       "\n",
       "    .dataframe thead th {\n",
       "        text-align: right;\n",
       "    }\n",
       "</style>\n",
       "<table border=\"1\" class=\"dataframe\">\n",
       "  <thead>\n",
       "    <tr style=\"text-align: right;\">\n",
       "      <th></th>\n",
       "      <th>BIOGUIDE_ID</th>\n",
       "      <th>OFFICE</th>\n",
       "      <th>QUARTER</th>\n",
       "      <th>CATEGORY</th>\n",
       "      <th>DATE</th>\n",
       "      <th>PAYEE</th>\n",
       "      <th>START DATE</th>\n",
       "      <th>END DATE</th>\n",
       "      <th>PURPOSE</th>\n",
       "      <th>AMOUNT</th>\n",
       "      <th>YEAR</th>\n",
       "      <th>TRANSCODE</th>\n",
       "    </tr>\n",
       "  </thead>\n",
       "  <tbody>\n",
       "    <tr>\n",
       "      <th>0</th>\n",
       "      <td>NaN</td>\n",
       "      <td>COMMUNICATIONS</td>\n",
       "      <td>2010Q1</td>\n",
       "      <td>OTHER SERVICES</td>\n",
       "      <td>NaN</td>\n",
       "      <td>03Â­10       P2 MFP0003226                    ...</td>\n",
       "      <td>03/02/10</td>\n",
       "      <td>03/02/10</td>\n",
       "      <td>NON-TECHNOLOGY SERVICE CONTRCT</td>\n",
       "      <td>455.00</td>\n",
       "      <td>FISCAL YEAR 2010</td>\n",
       "      <td>NaN</td>\n",
       "    </tr>\n",
       "    <tr>\n",
       "      <th>1</th>\n",
       "      <td>NaN</td>\n",
       "      <td>COMMUNICATIONS</td>\n",
       "      <td>2010Q1</td>\n",
       "      <td>SUPPLIES AND MATERIALS</td>\n",
       "      <td>NaN</td>\n",
       "      <td>02Â­05       P2    MFP0003219       ALLSTEEL</td>\n",
       "      <td>11/28/09</td>\n",
       "      <td>11/28/09</td>\n",
       "      <td>HABITATION EXPENSES</td>\n",
       "      <td>47.26</td>\n",
       "      <td>FISCAL YEAR 2010</td>\n",
       "      <td>NaN</td>\n",
       "    </tr>\n",
       "    <tr>\n",
       "      <th>2</th>\n",
       "      <td>NaN</td>\n",
       "      <td>COMMUNICATIONS</td>\n",
       "      <td>2010Q1</td>\n",
       "      <td>SUPPLIES AND MATERIALS</td>\n",
       "      <td>NaN</td>\n",
       "      <td>03Â­05       P2    OSM42304         CDW GOVERN...</td>\n",
       "      <td>12/21/09</td>\n",
       "      <td>12/21/09</td>\n",
       "      <td>OFFICE SUPPLIES OUTSIDE</td>\n",
       "      <td>250.00</td>\n",
       "      <td>FISCAL YEAR 2010</td>\n",
       "      <td>NaN</td>\n",
       "    </tr>\n",
       "    <tr>\n",
       "      <th>3</th>\n",
       "      <td>NaN</td>\n",
       "      <td>COMMUNICATIONS</td>\n",
       "      <td>2010Q1</td>\n",
       "      <td>SUPPLIES AND MATERIALS</td>\n",
       "      <td>NaN</td>\n",
       "      <td>03Â­05       P2    OSM42304              DO</td>\n",
       "      <td>12/21/09</td>\n",
       "      <td>12/21/09</td>\n",
       "      <td>OFFICE SUPPLIES OUTSIDE</td>\n",
       "      <td>436.00</td>\n",
       "      <td>FISCAL YEAR 2010</td>\n",
       "      <td>NaN</td>\n",
       "    </tr>\n",
       "    <tr>\n",
       "      <th>4</th>\n",
       "      <td>NaN</td>\n",
       "      <td>COMMUNICATIONS</td>\n",
       "      <td>2010Q1</td>\n",
       "      <td>SUPPLIES AND MATERIALS</td>\n",
       "      <td>NaN</td>\n",
       "      <td>03Â­05       P2    OSM42304              DO</td>\n",
       "      <td>12/21/09</td>\n",
       "      <td>12/21/09</td>\n",
       "      <td>OFFICE SUPPLIES OUTSIDE</td>\n",
       "      <td>37.90</td>\n",
       "      <td>FISCAL YEAR 2010</td>\n",
       "      <td>NaN</td>\n",
       "    </tr>\n",
       "  </tbody>\n",
       "</table>\n",
       "</div>"
      ],
      "text/plain": [
       "  BIOGUIDE_ID          OFFICE QUARTER                CATEGORY DATE  \\\n",
       "0         NaN  COMMUNICATIONS  2010Q1          OTHER SERVICES  NaN   \n",
       "1         NaN  COMMUNICATIONS  2010Q1  SUPPLIES AND MATERIALS  NaN   \n",
       "2         NaN  COMMUNICATIONS  2010Q1  SUPPLIES AND MATERIALS  NaN   \n",
       "3         NaN  COMMUNICATIONS  2010Q1  SUPPLIES AND MATERIALS  NaN   \n",
       "4         NaN  COMMUNICATIONS  2010Q1  SUPPLIES AND MATERIALS  NaN   \n",
       "\n",
       "                                               PAYEE START DATE  END DATE  \\\n",
       "0  03Â­10       P2 MFP0003226                    ...   03/02/10  03/02/10   \n",
       "1       02Â­05       P2    MFP0003219       ALLSTEEL   11/28/09  11/28/09   \n",
       "2  03Â­05       P2    OSM42304         CDW GOVERN...   12/21/09  12/21/09   \n",
       "3        03Â­05       P2    OSM42304              DO   12/21/09  12/21/09   \n",
       "4        03Â­05       P2    OSM42304              DO   12/21/09  12/21/09   \n",
       "\n",
       "                          PURPOSE  AMOUNT              YEAR TRANSCODE  \n",
       "0  NON-TECHNOLOGY SERVICE CONTRCT  455.00  FISCAL YEAR 2010       NaN  \n",
       "1             HABITATION EXPENSES   47.26  FISCAL YEAR 2010       NaN  \n",
       "2         OFFICE SUPPLIES OUTSIDE  250.00  FISCAL YEAR 2010       NaN  \n",
       "3         OFFICE SUPPLIES OUTSIDE  436.00  FISCAL YEAR 2010       NaN  \n",
       "4         OFFICE SUPPLIES OUTSIDE   37.90  FISCAL YEAR 2010       NaN  "
      ]
     },
     "execution_count": 54,
     "metadata": {},
     "output_type": "execute_result"
    }
   ],
   "source": [
    "import numpy as np\n",
    "import pandas as pd\n",
    "import glob\n",
    "\n",
    "\n",
    "\n",
    "path = \"house-office-expenditures-with-readme\"\n",
    "#path =r'D:\\Auburn University\\6 - Fall 2018\\1- INSY 6500 Information Technology for Operations\\Homeworks\\Project\\data'\n",
    "allFiles = glob.glob(path + \"/*.csv\")\n",
    "\n",
    "list = [pd.read_csv(file,index_col = None, header = 0, encoding = 'unicode_escape') for file in allFiles]\n",
    "    \n",
    "df = pd.concat(list, axis = 0, ignore_index = True)\n",
    "df = df[[\"BIOGUIDE_ID\", \"OFFICE\",\"QUARTER\",\"CATEGORY\",\"DATE\",\"PAYEE\",\"START DATE\",\"END DATE\",\"PURPOSE\",\"AMOUNT\",\"YEAR\", \"TRANSCODE\"]]\n",
    "#df.sort_values(by=\"QUARTER\", ascending=True )\n",
    "df.head()\n"
   ]
  },
  {
   "cell_type": "code",
   "execution_count": 55,
   "metadata": {},
   "outputs": [],
   "source": [
    "#start date cleaning\n",
    "\n",
    "df = df.loc[df[\"START DATE\"] != '   ']\n",
    "df['START DATE'].replace('', np.nan, inplace=True)\n",
    "\n",
    "\n",
    "df.dropna(subset=['START DATE'], inplace=True)\n",
    "df[\"START DATE\"] = pd.to_datetime(df[\"START DATE\"])"
   ]
  },
  {
   "cell_type": "code",
   "execution_count": 56,
   "metadata": {},
   "outputs": [],
   "source": [
    "\n",
    "df = df.loc[df[\"END DATE\"] != '   ']\n",
    "df['END DATE'].replace('', np.nan, inplace=True)\n",
    "\n",
    "\n",
    "df.dropna(subset=['END DATE'], inplace=True)\n",
    "df[\"END DATE\"] = pd.to_datetime(df[\"END DATE\"])"
   ]
  },
  {
   "cell_type": "markdown",
   "metadata": {},
   "source": [
    "question 1. What is the most expensive payee?\n",
    "we have several payees,it's not good to just group buy that. what else we can do we can find the purpose of the largest amount payed. "
   ]
  },
  {
   "cell_type": "code",
   "execution_count": 66,
   "metadata": {},
   "outputs": [],
   "source": [
    "#df.groupby(\"PAYEE\")[\"AMOUNT\"].max()\n",
    "\n",
    "def convert_to_float(row):\n",
    "    string= str(row[\"AMOUNT\"]).replace(\",\", \"\")\n",
    "    return float(string)\n",
    "    \n",
    "\n",
    "df[\"AMOUNT\"] = df.apply(lambda row: convert_to_float(row), axis =1)\n",
    "\n"
   ]
  },
  {
   "cell_type": "code",
   "execution_count": 133,
   "metadata": {},
   "outputs": [],
   "source": [
    "# the data set is for 2015 second quarter, so there is no data point for 2016 in this dataset \n",
    "#df.to_csv(\"concatenated.csv\")\n",
    "new_df = df.loc[(df[\"CATEGORY\"] ==\"PERSONNEL COMPENSATION\"), :]\n",
    "new_df.groupby([\"PAYEE\", \"OFFICE\"]).mean()\n",
    "\n",
    "\n",
    "def split_strings(row):\n",
    "    string= row[\"PAYEE\"].rsplit( \"  \", maxsplit=3)\n",
    "    \n",
    "    return string[-1]\n",
    "\n",
    "df.dropna()\n",
    "df.dropna(subset=['PAYEE'], inplace=True)\n",
    "df[\"PAYEE\"] = df.apply(lambda row: split_strings(row), axis= 1)\n",
    "\n",
    "\n",
    "\n",
    "#df.head()\n"
   ]
  },
  {
   "cell_type": "markdown",
   "metadata": {},
   "source": [
    "question 2. Which year was the most expensive year for the House?"
   ]
  },
  {
   "cell_type": "markdown",
   "metadata": {},
   "source": [
    "question 3. Graphic How expenses changed during time?"
   ]
  },
  {
   "cell_type": "markdown",
   "metadata": {},
   "source": [
    "question 4. Which office was the most expensive in each year?"
   ]
  },
  {
   "cell_type": "markdown",
   "metadata": {},
   "source": [
    "question 5. Which quarter of each year was the most expensive?"
   ]
  },
  {
   "cell_type": "markdown",
   "metadata": {},
   "source": [
    "question 6. What is the most commun purpose to spend money in House?"
   ]
  },
  {
   "cell_type": "markdown",
   "metadata": {},
   "source": [
    "question 7. How much was the total expenditure for each purpose?"
   ]
  },
  {
   "cell_type": "markdown",
   "metadata": {},
   "source": [
    "question 8. Graphic of total expenses in each year."
   ]
  },
  {
   "cell_type": "markdown",
   "metadata": {},
   "source": [
    "question 9. Graphic of total expensen in each year considering quarters."
   ]
  },
  {
   "cell_type": "markdown",
   "metadata": {},
   "source": [
    "question 10. Graphic of comparing the expense of each office during year... (can be lines for each office)\n",
    "11. Changes in aggregate House expenditures (arranged by 2009 expenditure size)\n",
    "12. Changes in staffing force, by position (for 20 most expensive positions by total expenditures, arranged from biggest decline to biggest gain)\n",
    "13. "
   ]
  }
 ],
 "metadata": {
  "kernelspec": {
   "display_name": "Python 3",
   "language": "python",
   "name": "python3"
  },
  "language_info": {
   "codemirror_mode": {
    "name": "ipython",
    "version": 3
   },
   "file_extension": ".py",
   "mimetype": "text/x-python",
   "name": "python",
   "nbconvert_exporter": "python",
   "pygments_lexer": "ipython3",
   "version": "3.6.5"
  }
 },
 "nbformat": 4,
 "nbformat_minor": 2
}
